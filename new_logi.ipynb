{
 "cells": [
  {
   "cell_type": "code",
   "execution_count": 1,
   "id": "local-central",
   "metadata": {},
   "outputs": [],
   "source": [
    "import os\n",
    "import re\n",
    "import sys\n",
    "import numpy as np\n",
    "import pandas as pd\n",
    "\n",
    "import matplotlib.pyplot as plt\n",
    "%matplotlib inline\n",
    "\n",
    "from sklearn.linear_model import LogisticRegression\n",
    "from sklearn.model_selection import StratifiedKFold\n",
    "from sklearn.feature_extraction.text import CountVectorizer,TfidfVectorizer\n",
    "from sklearn.decomposition import TruncatedSVD\n",
    "from sklearn.metrics import log_loss,confusion_matrix,classification_report,roc_curve,auc\n",
    "from nltk.tokenize import word_tokenize\n",
    "from scipy import sparse\n",
    "from nltk.corpus import stopwords\n",
    "stop_words = set(stopwords.words('english'))"
   ]
  },
  {
   "cell_type": "code",
   "execution_count": 2,
   "id": "isolated-baltimore",
   "metadata": {},
   "outputs": [],
   "source": [
    "train_data = pd.read_csv('train.csv')\n",
    "test_data = pd.read_csv('test.csv')"
   ]
  },
  {
   "cell_type": "code",
   "execution_count": 3,
   "id": "overhead-gathering",
   "metadata": {},
   "outputs": [],
   "source": [
    "classes = [\"toxic\", \"severe_toxic\", \"obscene\", \"threat\", \"insult\", \"identity_hate\"]\n",
    "y = train_data[classes].values"
   ]
  },
  {
   "cell_type": "code",
   "execution_count": 4,
   "id": "going-listing",
   "metadata": {},
   "outputs": [],
   "source": [
    "train_sentences = train_data[\"comment_text\"].fillna(\"fillna\").str.lower()\n",
    "test_sentences = test_data[\"comment_text\"].fillna(\"fillna\").str.lower()"
   ]
  },
  {
   "cell_type": "code",
   "execution_count": 5,
   "id": "aerial-george",
   "metadata": {},
   "outputs": [],
   "source": [
    "max_features = 100000\n",
    "max_len = 150\n",
    "embed_size = 300"
   ]
  },
  {
   "cell_type": "code",
   "execution_count": 6,
   "id": "excited-traveler",
   "metadata": {},
   "outputs": [],
   "source": [
    "def clean_text(text):\n",
    "    text = text.lower()\n",
    "    text = re.sub(r\"what's\", \"what is \", text)\n",
    "    text = re.sub(r\"\\'s\", \" \", text)\n",
    "    text = re.sub(r\"\\'ve\", \" have \", text)\n",
    "    text = re.sub(r\"can't\", \"can not \", text)\n",
    "    text = re.sub(r\"n't\", \" not \", text)\n",
    "    text = re.sub(r\"i'm\", \"i am \", text)\n",
    "    text = re.sub(r\"\\'re\", \" are \", text)\n",
    "    text = re.sub(r\"\\'d\", \" would \", text)\n",
    "    text = re.sub(r\"\\'ll\", \" will \", text)\n",
    "    text = re.sub(r\"\\'scuse\", \" excuse \", text)\n",
    "    text = re.sub('\\W', ' ', text)\n",
    "    text = re.sub('\\s+', ' ', text)\n",
    "    text = text.strip(' ')\n",
    "    return text"
   ]
  },
  {
   "cell_type": "code",
   "execution_count": 7,
   "id": "reported-hours",
   "metadata": {},
   "outputs": [
    {
     "data": {
      "text/plain": [
       "'yo bitch ja rule is more succesful then you will ever be whats up with you and hating you sad mofuckas i should bitch slap ur pethedic white faces and get you to kiss my ass you guys sicken me ja rule is about pride in da music man dont diss that shit on him and nothin is wrong bein like tupac he was a brother too fuckin white boys get things right next time'"
      ]
     },
     "execution_count": 7,
     "metadata": {},
     "output_type": "execute_result"
    }
   ],
   "source": [
    "train_data['comment_text'] = train_data['comment_text'].map(lambda com : clean_text(str(com)))\n",
    "test_data['comment_text'] = test_data['comment_text'].map(lambda com : clean_text(str(com)))\n",
    "train_data['comment_text'][0]\n",
    "test_data['comment_text'][0]"
   ]
  },
  {
   "cell_type": "code",
   "execution_count": 8,
   "id": "shared-trail",
   "metadata": {},
   "outputs": [],
   "source": [
    "tfidf_vectorizer = TfidfVectorizer(use_idf=True)\n",
    "\n",
    "train_data_tfidf = tfidf_vectorizer.fit_transform(train_data['comment_text'])\n",
    "test_data_tfidf = tfidf_vectorizer.fit_transform(test_data['comment_text'])"
   ]
  },
  {
   "cell_type": "code",
   "execution_count": 9,
   "id": "polar-collector",
   "metadata": {},
   "outputs": [],
   "source": [
    "vect_word = TfidfVectorizer(max_features=20000, lowercase=True, analyzer='word',\n",
    "                        stop_words= 'english',ngram_range=(1,3),dtype=np.float32)\n",
    "vect_char = TfidfVectorizer(max_features=40000, lowercase=True, analyzer='char',\n",
    "                        stop_words= 'english',ngram_range=(3,6),dtype=np.float32)"
   ]
  },
  {
   "cell_type": "code",
   "execution_count": 10,
   "id": "boolean-tribute",
   "metadata": {},
   "outputs": [],
   "source": [
    "tr_vect = vect_word.fit_transform(train_data['comment_text'])\n",
    "ts_vect = vect_word.transform(test_data['comment_text'])\n",
    "\n",
    "# Character n gram vector\n",
    "tr_vect_char = vect_char.fit_transform(train_data['comment_text'])\n",
    "ts_vect_char = vect_char.transform(test_data['comment_text'])"
   ]
  },
  {
   "cell_type": "code",
   "execution_count": 11,
   "id": "radical-jerusalem",
   "metadata": {},
   "outputs": [],
   "source": [
    "X = sparse.hstack([tr_vect, tr_vect_char])\n",
    "x_test = sparse.hstack([ts_vect, ts_vect_char])"
   ]
  },
  {
   "cell_type": "code",
   "execution_count": 12,
   "id": "anticipated-liberty",
   "metadata": {},
   "outputs": [],
   "source": [
    "target_col = ['toxic', 'severe_toxic', 'obscene', 'threat','insult', 'identity_hate']\n",
    "y = train_data[target_col]\n",
    "del tr_vect, ts_vect, tr_vect_char, ts_vect_char"
   ]
  },
  {
   "cell_type": "code",
   "execution_count": 13,
   "id": "detailed-offering",
   "metadata": {},
   "outputs": [
    {
     "name": "stdout",
     "output_type": "stream",
     "text": [
      "Building 0 model for column:toxic\n"
     ]
    }
   ],
   "source": [
    "prd = np.zeros((x_test.shape[0],y.shape[1]))\n",
    "cv_score =[]\n",
    "\n",
    "col = 'toxic'\n",
    "i=0\n",
    "\n",
    "lr_toxic = LogisticRegression(solver='sag')\n",
    "print('Building {} model for column:{''}'.format(i,col)) \n",
    "lr_toxic.fit(X,y[col])\n",
    "#cv_score.append(lr.score)\n",
    "prd[:,i] = lr_toxic.predict_proba(x_test)[:,1]"
   ]
  },
  {
   "cell_type": "code",
   "execution_count": 14,
   "id": "brutal-language",
   "metadata": {},
   "outputs": [
    {
     "name": "stdout",
     "output_type": "stream",
     "text": [
      "Building 1 model for column:severe_toxic\n"
     ]
    }
   ],
   "source": [
    "col = 'severe_toxic'\n",
    "i=1\n",
    "\n",
    "lr_sever_toxic = LogisticRegression(solver='sag')\n",
    "print('Building {} model for column:{''}'.format(i,col)) \n",
    "lr_sever_toxic.fit(X,y[col])\n",
    "#cv_score.append(lr.score)\n",
    "prd[:,i] = lr_sever_toxic.predict_proba(x_test)[:,1]"
   ]
  },
  {
   "cell_type": "code",
   "execution_count": 15,
   "id": "coastal-geneva",
   "metadata": {},
   "outputs": [
    {
     "name": "stdout",
     "output_type": "stream",
     "text": [
      "Building 2 model for column:obscene\n"
     ]
    }
   ],
   "source": [
    "col = 'obscene'\n",
    "i=2\n",
    "\n",
    "lr_obscene = LogisticRegression(solver='sag')\n",
    "print('Building {} model for column:{''}'.format(i,col)) \n",
    "lr_obscene.fit(X,y[col])\n",
    "#cv_score.append(lr.score)\n",
    "prd[:,i] = lr_obscene.predict_proba(x_test)[:,1]"
   ]
  },
  {
   "cell_type": "code",
   "execution_count": 16,
   "id": "stock-bangladesh",
   "metadata": {},
   "outputs": [
    {
     "name": "stdout",
     "output_type": "stream",
     "text": [
      "Building 3 model for column:threat\n"
     ]
    }
   ],
   "source": [
    "col = 'threat'\n",
    "i=3\n",
    "\n",
    "lr_threat = LogisticRegression(solver='sag')\n",
    "print('Building {} model for column:{''}'.format(i,col)) \n",
    "lr_threat.fit(X,y[col])\n",
    "#cv_score.append(lr.score)\n",
    "prd[:,i] = lr_threat.predict_proba(x_test)[:,1]"
   ]
  },
  {
   "cell_type": "code",
   "execution_count": 17,
   "id": "approved-calvin",
   "metadata": {},
   "outputs": [
    {
     "name": "stdout",
     "output_type": "stream",
     "text": [
      "Building 4 model for column:insult\n"
     ]
    }
   ],
   "source": [
    "col = 'insult'\n",
    "i=4\n",
    "\n",
    "lr_insult = LogisticRegression(solver='sag')\n",
    "print('Building {} model for column:{''}'.format(i,col)) \n",
    "lr_insult.fit(X,y[col])\n",
    "#cv_score.append(lr.score)\n",
    "prd[:,i] = lr_insult.predict_proba(x_test)[:,1]"
   ]
  },
  {
   "cell_type": "code",
   "execution_count": 18,
   "id": "robust-yacht",
   "metadata": {},
   "outputs": [
    {
     "name": "stdout",
     "output_type": "stream",
     "text": [
      "Building 5 model for column:identity_hate\n"
     ]
    }
   ],
   "source": [
    "col = 'identity_hate'\n",
    "i=5\n",
    "\n",
    "lr_identity_hate = LogisticRegression(solver='sag')\n",
    "print('Building {} model for column:{''}'.format(i,col)) \n",
    "lr_identity_hate.fit(X,y[col])\n",
    "#cv_score.append(lr.score)\n",
    "prd[:,i] = lr_identity_hate.predict_proba(x_test)[:,1]"
   ]
  },
  {
   "cell_type": "code",
   "execution_count": 20,
   "id": "working-exchange",
   "metadata": {},
   "outputs": [
    {
     "name": "stdout",
     "output_type": "stream",
     "text": [
      "Column: identity_hate\n",
      "\n",
      "Confusion matrix\n",
      " [[158069     97]\n",
      " [   928    477]]\n",
      "              precision    recall  f1-score   support\n",
      "\n",
      "           0       0.99      1.00      1.00    158166\n",
      "           1       0.83      0.34      0.48      1405\n",
      "\n",
      "    accuracy                           0.99    159571\n",
      "   macro avg       0.91      0.67      0.74    159571\n",
      "weighted avg       0.99      0.99      0.99    159571\n",
      "\n"
     ]
    }
   ],
   "source": [
    "col = 'identity_hate'\n",
    "print(\"Column:\",col)\n",
    "pred =  lr_identity_hate.predict(X)\n",
    "print('\\nConfusion matrix\\n',confusion_matrix(y[col],pred))\n",
    "print(classification_report(y[col],pred))"
   ]
  },
  {
   "cell_type": "code",
   "execution_count": 21,
   "id": "outdoor-surfing",
   "metadata": {},
   "outputs": [
    {
     "name": "stdout",
     "output_type": "stream",
     "text": [
      "Column: identity_hate\n"
     ]
    },
    {
     "data": {
      "text/plain": [
       "Text(0.5, 1.0, 'Reciever Operating Characteristic')"
      ]
     },
     "execution_count": 21,
     "metadata": {},
     "output_type": "execute_result"
    },
    {
     "data": {
      "image/png": "[encoded data removed]",
      "text/plain": [
       "<Figure size 1008x720 with 1 Axes>"
      ]
     },
     "metadata": {
      "needs_background": "light"
     },
     "output_type": "display_data"
    }
   ],
   "source": [
    "col = 'identity_hate'\n",
    "print(\"Column:\",col)\n",
    "pred_pro = lr_identity_hate.predict_proba(X)[:,1]\n",
    "frp,trp,thres = roc_curve(y[col],pred_pro)\n",
    "auc_val =auc(frp,trp)\n",
    "plt.figure(figsize=(14,10))\n",
    "plt.plot([0,1],[0,1],color='b')\n",
    "plt.plot(frp,trp,color='r',label= 'AUC = %.2f'%auc_val)\n",
    "plt.legend(loc='lower right')\n",
    "plt.xlabel('True positive rate')\n",
    "plt.ylabel('False positive rate')\n",
    "plt.title('Reciever Operating Characteristic')"
   ]
  },
  {
   "cell_type": "code",
   "execution_count": 22,
   "id": "civilian-cable",
   "metadata": {},
   "outputs": [
    {
     "name": "stdout",
     "output_type": "stream",
     "text": [
      "                      id     toxic  severe_toxic   obscene    threat  \\\n",
      "0       00001cee341fdb12  0.999970      0.238922  0.999862  0.053469   \n",
      "1       0000247867823ef7  0.003831      0.001505  0.001746  0.000597   \n",
      "2       00013b17ad220c46  0.007867      0.001813  0.004353  0.000615   \n",
      "3       00017563c3f7919a  0.003507      0.001363  0.002345  0.000548   \n",
      "4       00017695ad8997eb  0.015800      0.002287  0.005614  0.000699   \n",
      "...                  ...       ...           ...       ...       ...   \n",
      "153159  fffcd0960ee309b5  0.607782      0.002378  0.082177  0.000863   \n",
      "153160  fffd7a9a6eb32c16  0.039398      0.003361  0.015625  0.001602   \n",
      "153161  fffda9e8d6fafa9e  0.003382      0.001003  0.006665  0.000446   \n",
      "153162  fffe8f1340a79fc2  0.012858      0.001100  0.005841  0.000968   \n",
      "153163  ffffce3fb183ee80  0.982608      0.001475  0.798298  0.005207   \n",
      "\n",
      "          insult  identity_hate  \n",
      "0       0.988853       0.449966  \n",
      "1       0.005231       0.002362  \n",
      "2       0.005424       0.001998  \n",
      "3       0.002395       0.000377  \n",
      "4       0.007317       0.001411  \n",
      "...          ...            ...  \n",
      "153159  0.022087       0.002529  \n",
      "153160  0.017251       0.008629  \n",
      "153161  0.002828       0.000986  \n",
      "153162  0.007267       0.014232  \n",
      "153163  0.259679       0.005336  \n",
      "\n",
      "[153164 rows x 7 columns]\n"
     ]
    }
   ],
   "source": [
    "prd_1 = pd.DataFrame(prd,columns=y.columns)\n",
    "submit = pd.concat([test_data['id'],prd_1],axis=1)\n",
    "#submit.to_csv('toxic_lr.csv.gz',compression='gzip',index=False)\n",
    "submit.to_csv('toxic_lr.csv',index=False)\n",
    "print(submit)"
   ]
  },
  {
   "cell_type": "code",
   "execution_count": 29,
   "id": "global-lender",
   "metadata": {},
   "outputs": [],
   "source": [
    "random_comment = ['He is a ass hole']\n",
    "ra_ts_vect = vect_word.transform(random_comment)\n",
    "ra_ts_vect_char = vect_char.transform(random_comment)\n",
    "ra_x_test = sparse.hstack([ra_ts_vect, ra_ts_vect_char])\n",
    "\n",
    "ra_prd = np.zeros((ra_x_test.shape[0],y.shape[1]))\n",
    "\n",
    "i=0\n",
    "ra_prd[:,i] = lr_toxic.predict_proba(ra_x_test)[:,1]\n",
    "\n",
    "i=1\n",
    "ra_prd[:,i] = lr_sever_toxic.predict_proba(ra_x_test)[:,1]\n",
    "\n",
    "i=2\n",
    "ra_prd[:,i] = lr_obscene.predict_proba(ra_x_test)[:,1]\n",
    "\n",
    "i=3\n",
    "ra_prd[:,i] = lr_threat.predict_proba(ra_x_test)[:,1]\n",
    "\n",
    "i=4\n",
    "ra_prd[:,i] = lr_insult.predict_proba(ra_x_test)[:,1]\n",
    "\n",
    "i=5\n",
    "ra_prd[:,i] = lr_identity_hate.predict_proba(ra_x_test)[:,1]"
   ]
  },
  {
   "cell_type": "code",
   "execution_count": 30,
   "id": "physical-fancy",
   "metadata": {},
   "outputs": [
    {
     "name": "stdout",
     "output_type": "stream",
     "text": [
      "[[0.9995048  0.06775568 0.99846447 0.01165689 0.97313201 0.03419621]]\n"
     ]
    }
   ],
   "source": [
    "print(ra_prd)"
   ]
  },
  {
   "cell_type": "code",
   "execution_count": null,
   "id": "distinct-radio",
   "metadata": {},
   "outputs": [],
   "source": []
  }
 ],
 "metadata": {
  "kernelspec": {
   "display_name": "Python 3",
   "language": "python",
   "name": "python3"
  },
  "language_info": {
   "codemirror_mode": {
    "name": "ipython",
    "version": 3
   },
   "file_extension": ".py",
   "mimetype": "text/x-python",
   "name": "python",
   "nbconvert_exporter": "python",
   "pygments_lexer": "ipython3",
   "version": "3.8.5"
  }
 },
 "nbformat": 4,
 "nbformat_minor": 5
}
